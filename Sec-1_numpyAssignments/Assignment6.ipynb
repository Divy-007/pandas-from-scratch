{
 "cells": [
  {
   "cell_type": "markdown",
   "id": "3889bef3-3339-4276-8173-3e0f979710c4",
   "metadata": {},
   "source": [
    "# Assignment 6: Aggregating and Sorting Arrays\n",
    "\n",
    "First, grab the top 3 highest priced items in our list. \n",
    "\n",
    "Then, calculated the mean, min, max, and median of the top three prices.\n",
    "\n",
    "Finally, calculate the number of unique price tiers in our `price_tiers` array."
   ]
  },
  {
   "cell_type": "code",
   "execution_count": 1,
   "id": "cc45f30b-b7b2-4516-a6d0-f65202ddc6c6",
   "metadata": {},
   "outputs": [],
   "source": [
    "import numpy as np\n"
   ]
  },
  {
   "cell_type": "code",
   "execution_count": 23,
   "id": "b2b8a845-aa5b-4234-91f7-2b051abb2d73",
   "metadata": {},
   "outputs": [
    {
     "data": {
      "text/plain": [
       "array([22.49, 49.99, 99.99])"
      ]
     },
     "execution_count": 23,
     "metadata": {},
     "output_type": "execute_result"
    }
   ],
   "source": [
    "prices = np.array([5.99, 6.99, 22.49, 99.99, 4.99, 49.99])\n",
    "prices.sort()\n",
    "updtaed_prices=prices[-3:]\n",
    "updtaed_prices"
   ]
  },
  {
   "cell_type": "code",
   "execution_count": 24,
   "id": "2d917338-f2b0-41b1-8430-73ad677edded",
   "metadata": {},
   "outputs": [
    {
     "name": "stdout",
     "output_type": "stream",
     "text": [
      "57.49\n",
      "22.49\n",
      "99.99\n",
      "49.99\n"
     ]
    }
   ],
   "source": [
    "print(updtaed_prices.mean())\n",
    "print(updtaed_prices.min())\n",
    "print(updtaed_prices.max())\n",
    "print(np.median(updtaed_prices))\n"
   ]
  },
  {
   "cell_type": "code",
   "execution_count": 25,
   "id": "b35c175f-93c8-4229-87d2-702721702399",
   "metadata": {},
   "outputs": [
    {
     "data": {
      "text/plain": [
       "array(['budget', 'luxury', 'mid-tier'], dtype='<U8')"
      ]
     },
     "execution_count": 25,
     "metadata": {},
     "output_type": "execute_result"
    }
   ],
   "source": [
    "price_tiers = np.array([\"budget\", \"budget\", \"mid-tier\", \"luxury\", \"mid-tier\", \"luxury\"])\n",
    "np.unique(price_tiers)"
   ]
  },
  {
   "cell_type": "code",
   "execution_count": null,
   "id": "d6dd395b-05b4-4be0-b3d9-3683165d1423",
   "metadata": {},
   "outputs": [],
   "source": []
  }
 ],
 "metadata": {
  "kernelspec": {
   "display_name": "Python 3 (ipykernel)",
   "language": "python",
   "name": "python3"
  },
  "language_info": {
   "codemirror_mode": {
    "name": "ipython",
    "version": 3
   },
   "file_extension": ".py",
   "mimetype": "text/x-python",
   "name": "python",
   "nbconvert_exporter": "python",
   "pygments_lexer": "ipython3",
   "version": "3.13.5"
  }
 },
 "nbformat": 4,
 "nbformat_minor": 5
}
