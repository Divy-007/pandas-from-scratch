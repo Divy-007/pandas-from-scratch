{
 "cells": [
  {
   "cell_type": "markdown",
   "id": "dc0d1974-abcc-4f11-8b70-57612ba134a4",
   "metadata": {},
   "source": [
    "# apply() method "
   ]
  },
  {
   "cell_type": "code",
   "execution_count": 11,
   "id": "92d3c439-a1fb-415c-8bfa-1cd3aeadf90e",
   "metadata": {},
   "outputs": [],
   "source": [
    "import pandas as pd\n"
   ]
  },
  {
   "cell_type": "code",
   "execution_count": 22,
   "id": "6475f2ba-cd9f-4002-9624-faa6be5e0793",
   "metadata": {},
   "outputs": [
    {
     "name": "stdout",
     "output_type": "stream",
     "text": [
      "0    34\n",
      "1    34\n",
      "2    34\n",
      "3    34\n",
      "4    34\n",
      "5    34\n",
      "6    34\n",
      "7    34\n",
      "Name: sales, dtype: int64\n"
     ]
    }
   ],
   "source": [
    "sales=[11,0,2,3,34,22,0,34]\n",
    "sales_prices=pd.Series(sales,name='sales')\n",
    "def custom_fun(x,series):\n",
    "    return series.max() - series.min()\n",
    "print(sales_prices.apply(custom_fun,series=sales_prices))"
   ]
  },
  {
   "cell_type": "code",
   "execution_count": 23,
   "id": "e1d0ab35-147a-4e0e-9056-11e189dcd857",
   "metadata": {},
   "outputs": [
    {
     "data": {
      "text/plain": [
       "'1.5.3'"
      ]
     },
     "execution_count": 23,
     "metadata": {},
     "output_type": "execute_result"
    }
   ],
   "source": [
    "pd.__version__"
   ]
  },
  {
   "cell_type": "code",
   "execution_count": null,
   "id": "4ce1166a-5fee-4fb7-b500-24947838f793",
   "metadata": {},
   "outputs": [],
   "source": []
  }
 ],
 "metadata": {
  "kernelspec": {
   "display_name": "Python (pandas_old)",
   "language": "python",
   "name": "pandas_old"
  },
  "language_info": {
   "codemirror_mode": {
    "name": "ipython",
    "version": 3
   },
   "file_extension": ".py",
   "mimetype": "text/x-python",
   "name": "python",
   "nbconvert_exporter": "python",
   "pygments_lexer": "ipython3",
   "version": "3.10.18"
  }
 },
 "nbformat": 4,
 "nbformat_minor": 5
}
