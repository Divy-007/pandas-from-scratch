{
 "cells": [
  {
   "cell_type": "markdown",
   "id": "53ce352d-6f42-44ff-a111-23f480277215",
   "metadata": {},
   "source": [
    "# aggregation"
   ]
  },
  {
   "cell_type": "markdown",
   "id": "f3c9820c-b239-4206-8734-7dae4e3ea950",
   "metadata": {},
   "source": [
    "## basic aggregation"
   ]
  },
  {
   "cell_type": "code",
   "execution_count": 1,
   "id": "90cdb302-5d02-4490-8792-13e477a28531",
   "metadata": {},
   "outputs": [],
   "source": [
    "import numpy as np \n",
    "import pandas as pd \n"
   ]
  },
  {
   "cell_type": "code",
   "execution_count": 9,
   "id": "2d8d1d34-1ee5-4608-9e1b-60d66b94a345",
   "metadata": {},
   "outputs": [
    {
     "data": {
      "text/html": [
       "<div>\n",
       "<style scoped>\n",
       "    .dataframe tbody tr th:only-of-type {\n",
       "        vertical-align: middle;\n",
       "    }\n",
       "\n",
       "    .dataframe tbody tr th {\n",
       "        vertical-align: top;\n",
       "    }\n",
       "\n",
       "    .dataframe thead th {\n",
       "        text-align: right;\n",
       "    }\n",
       "</style>\n",
       "<table border=\"1\" class=\"dataframe\">\n",
       "  <thead>\n",
       "    <tr style=\"text-align: right;\">\n",
       "      <th></th>\n",
       "      <th>store_nbr</th>\n",
       "      <th>city</th>\n",
       "      <th>state</th>\n",
       "      <th>type</th>\n",
       "      <th>cluster</th>\n",
       "    </tr>\n",
       "  </thead>\n",
       "  <tbody>\n",
       "    <tr>\n",
       "      <th>0</th>\n",
       "      <td>1</td>\n",
       "      <td>Quito</td>\n",
       "      <td>Pichincha</td>\n",
       "      <td>D</td>\n",
       "      <td>13</td>\n",
       "    </tr>\n",
       "    <tr>\n",
       "      <th>1</th>\n",
       "      <td>2</td>\n",
       "      <td>Quito</td>\n",
       "      <td>Pichincha</td>\n",
       "      <td>D</td>\n",
       "      <td>13</td>\n",
       "    </tr>\n",
       "    <tr>\n",
       "      <th>2</th>\n",
       "      <td>3</td>\n",
       "      <td>Quito</td>\n",
       "      <td>Pichincha</td>\n",
       "      <td>D</td>\n",
       "      <td>8</td>\n",
       "    </tr>\n",
       "    <tr>\n",
       "      <th>3</th>\n",
       "      <td>4</td>\n",
       "      <td>Quito</td>\n",
       "      <td>Pichincha</td>\n",
       "      <td>D</td>\n",
       "      <td>9</td>\n",
       "    </tr>\n",
       "    <tr>\n",
       "      <th>4</th>\n",
       "      <td>5</td>\n",
       "      <td>Santo Domingo</td>\n",
       "      <td>Santo Domingo de los Tsachilas</td>\n",
       "      <td>D</td>\n",
       "      <td>4</td>\n",
       "    </tr>\n",
       "  </tbody>\n",
       "</table>\n",
       "</div>"
      ],
      "text/plain": [
       "   store_nbr           city                           state type  cluster\n",
       "0          1          Quito                       Pichincha    D       13\n",
       "1          2          Quito                       Pichincha    D       13\n",
       "2          3          Quito                       Pichincha    D        8\n",
       "3          4          Quito                       Pichincha    D        9\n",
       "4          5  Santo Domingo  Santo Domingo de los Tsachilas    D        4"
      ]
     },
     "execution_count": 9,
     "metadata": {},
     "output_type": "execute_result"
    }
   ],
   "source": [
    "stores=pd.read_csv(r\"E:\\Devu\\USB Drive\\coding\\pandas-from-scratch\\notebooks\\Sec-4_aggregation&reshaping\\stores.csv\")\n",
    "stores.head()"
   ]
  },
  {
   "cell_type": "code",
   "execution_count": null,
   "id": "aeb83dec-da9c-4619-b494-3a1e60649afd",
   "metadata": {},
   "outputs": [],
   "source": [
    "stores[\"cluster\"].sum()"
   ]
  },
  {
   "cell_type": "markdown",
   "id": "839115f1-a98b-4e9f-ae07-4d2c09d63e33",
   "metadata": {},
   "source": [
    "# groupby() method "
   ]
  },
  {
   "cell_type": "code",
   "execution_count": 17,
   "id": "03cae933-9a27-41f8-82bd-bbc8ed645df6",
   "metadata": {},
   "outputs": [
    {
     "data": {
      "text/plain": [
       "city\n",
       "Ambato            23\n",
       "Babahoyo          10\n",
       "Cayambe            6\n",
       "Cuenca            10\n",
       "Daule              1\n",
       "El Carmen          3\n",
       "Esmeraldas        10\n",
       "Guaranda          15\n",
       "Guayaquil         60\n",
       "Ibarra            15\n",
       "Latacunga         30\n",
       "Libertad          10\n",
       "Loja               4\n",
       "Machala            7\n",
       "Manta             24\n",
       "Playas             3\n",
       "Puyo               7\n",
       "Quevedo            3\n",
       "Quito            196\n",
       "Riobamba           7\n",
       "Salinas            1\n",
       "Santo Domingo     13\n",
       "Name: cluster, dtype: int64"
      ]
     },
     "execution_count": 17,
     "metadata": {},
     "output_type": "execute_result"
    }
   ],
   "source": [
    "stores.groupby(\"city\")[\"cluster\"].sum()"
   ]
  },
  {
   "cell_type": "code",
   "execution_count": null,
   "id": "c1cb6259-86b3-46db-a587-6ed9a50fb59e",
   "metadata": {},
   "outputs": [],
   "source": []
  }
 ],
 "metadata": {
  "kernelspec": {
   "display_name": "Python (pandas_old)",
   "language": "python",
   "name": "pandas_old"
  },
  "language_info": {
   "codemirror_mode": {
    "name": "ipython",
    "version": 3
   },
   "file_extension": ".py",
   "mimetype": "text/x-python",
   "name": "python",
   "nbconvert_exporter": "python",
   "pygments_lexer": "ipython3",
   "version": "3.10.18"
  }
 },
 "nbformat": 4,
 "nbformat_minor": 5
}
