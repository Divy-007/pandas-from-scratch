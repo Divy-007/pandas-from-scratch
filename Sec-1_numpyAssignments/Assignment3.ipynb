{
 "cells": [
  {
   "cell_type": "markdown",
   "id": "50c32490-32df-4c12-9a61-254fdb71545f",
   "metadata": {},
   "source": [
    "# Assignment 3: Accessing Array Data\n",
    "\n",
    "\n",
    "Slice and index the `random_array` we created in the previous exercise. Perform the following:\n",
    "\n",
    "* Grab the first two 'rows' of the array\n",
    "* Grab the entire first column\n",
    "* Finally, grab the second selement of the third row.\n",
    "\n",
    "Thanks!\n"
   ]
  },
  {
   "cell_type": "code",
   "execution_count": 2,
   "id": "d5420659-d03d-49e0-bb0c-0c00512801b7",
   "metadata": {},
   "outputs": [],
   "source": [
    "import numpy as np\n",
    "from numpy import random as default_rng"
   ]
  },
  {
   "cell_type": "code",
   "execution_count": 9,
   "id": "e5d7f212-2785-42ad-9cd8-775f8b41c826",
   "metadata": {},
   "outputs": [
    {
     "data": {
      "text/plain": [
       "array([[0.9749804 , 0.91769674],\n",
       "       [0.67926334, 0.05015013],\n",
       "       [0.03345537, 0.1753307 ],\n",
       "       [0.53774154, 0.63566684],\n",
       "       [0.7828022 , 0.45076841]])"
      ]
     },
     "execution_count": 9,
     "metadata": {},
     "output_type": "execute_result"
    }
   ],
   "source": [
    "array=default_rng.random(10).reshape(5,2)\n",
    "array"
   ]
  },
  {
   "cell_type": "code",
   "execution_count": 14,
   "id": "2e1847da-e598-4b10-9a7d-e0b8aeb3a495",
   "metadata": {},
   "outputs": [
    {
     "data": {
      "text/plain": [
       "array([[0.9749804 , 0.91769674],\n",
       "       [0.67926334, 0.05015013]])"
      ]
     },
     "execution_count": 14,
     "metadata": {},
     "output_type": "execute_result"
    }
   ],
   "source": [
    "array[:2,:2]"
   ]
  },
  {
   "cell_type": "code",
   "execution_count": 24,
   "id": "330b4835-93f6-42bd-af31-2d65cf9d81cc",
   "metadata": {},
   "outputs": [
    {
     "data": {
      "text/plain": [
       "array([[0.9749804 ],\n",
       "       [0.67926334],\n",
       "       [0.03345537],\n",
       "       [0.53774154],\n",
       "       [0.7828022 ]])"
      ]
     },
     "execution_count": 24,
     "metadata": {},
     "output_type": "execute_result"
    }
   ],
   "source": [
    "array[:,:1]"
   ]
  },
  {
   "cell_type": "code",
   "execution_count": 19,
   "id": "bcd8cae7-6345-440c-87b3-10904a5674fb",
   "metadata": {},
   "outputs": [
    {
     "data": {
      "text/plain": [
       "np.float64(0.17533070376281457)"
      ]
     },
     "execution_count": 19,
     "metadata": {},
     "output_type": "execute_result"
    }
   ],
   "source": [
    "array[2,1]"
   ]
  },
  {
   "cell_type": "code",
   "execution_count": null,
   "id": "8d23023c-a87f-46c4-850f-203a13b44590",
   "metadata": {},
   "outputs": [],
   "source": []
  }
 ],
 "metadata": {
  "kernelspec": {
   "display_name": "Python 3 (ipykernel)",
   "language": "python",
   "name": "python3"
  },
  "language_info": {
   "codemirror_mode": {
    "name": "ipython",
    "version": 3
   },
   "file_extension": ".py",
   "mimetype": "text/x-python",
   "name": "python",
   "nbconvert_exporter": "python",
   "pygments_lexer": "ipython3",
   "version": "3.13.5"
  }
 },
 "nbformat": 4,
 "nbformat_minor": 5
}
