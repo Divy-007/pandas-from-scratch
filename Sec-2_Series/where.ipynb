{
 "cells": [
  {
   "cell_type": "markdown",
   "id": "f8893640-ca01-41e1-adcd-8f2a134ae464",
   "metadata": {},
   "source": [
    "# where() method"
   ]
  },
  {
   "cell_type": "code",
   "execution_count": 1,
   "id": "75a333a2-53c1-4f4f-b17d-46ef4706e491",
   "metadata": {},
   "outputs": [],
   "source": [
    "import pandas as pd"
   ]
  },
  {
   "cell_type": "code",
   "execution_count": 2,
   "id": "091d874c-7a8c-4fb0-b122-11bcb336e951",
   "metadata": {},
   "outputs": [],
   "source": [
    "sales=[11,0,2,3,34,22,0,34]\n",
    "sales_prices=pd.Series(sales,name='sales')\n"
   ]
  },
  {
   "cell_type": "code",
   "execution_count": 7,
   "id": "055657bb-a93d-4da3-a7ff-9da9d7a846fc",
   "metadata": {},
   "outputs": [
    {
     "data": {
      "text/plain": [
       "0    11.0\n",
       "1     0.0\n",
       "2     2.0\n",
       "3     3.0\n",
       "4    30.6\n",
       "5    19.8\n",
       "6     0.0\n",
       "7    30.6\n",
       "Name: sales, dtype: float64"
      ]
     },
     "execution_count": 7,
     "metadata": {},
     "output_type": "execute_result"
    }
   ],
   "source": [
    "sales_prices.where(sales_prices<20,sales_prices*0.9)"
   ]
  },
  {
   "cell_type": "code",
   "execution_count": 12,
   "id": "4ee13d16-2610-4960-852a-dc9b1b0a1012",
   "metadata": {},
   "outputs": [
    {
     "data": {
      "text/plain": [
       "0    11.0\n",
       "1     0.0\n",
       "2     2.0\n",
       "3     3.0\n",
       "4    30.6\n",
       "5    19.8\n",
       "6     0.0\n",
       "7    30.6\n",
       "Name: sales, dtype: float64"
      ]
     },
     "execution_count": 12,
     "metadata": {},
     "output_type": "execute_result"
    }
   ],
   "source": [
    "(sales_prices.where(sales_prices<20,sales_prices*0.9)\n",
    " .where(~sales_prices<20,0))"
   ]
  },
  {
   "cell_type": "code",
   "execution_count": null,
   "id": "e81e265e-9196-4df9-a2ca-c3a2e51798ac",
   "metadata": {},
   "outputs": [],
   "source": []
  }
 ],
 "metadata": {
  "kernelspec": {
   "display_name": "Python (pandas_old)",
   "language": "python",
   "name": "pandas_old"
  },
  "language_info": {
   "codemirror_mode": {
    "name": "ipython",
    "version": 3
   },
   "file_extension": ".py",
   "mimetype": "text/x-python",
   "name": "python",
   "nbconvert_exporter": "python",
   "pygments_lexer": "ipython3",
   "version": "3.10.18"
  }
 },
 "nbformat": 4,
 "nbformat_minor": 5
}
