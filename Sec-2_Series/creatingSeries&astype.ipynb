{
 "cells": [
  {
   "cell_type": "code",
   "execution_count": 1,
   "id": "37f85d44-6cbc-4511-a13a-5a3cc0d30042",
   "metadata": {},
   "outputs": [],
   "source": [
    "import pandas as pd"
   ]
  },
  {
   "cell_type": "markdown",
   "id": "e6ce8b50-beed-4b09-a424-56cfbc2ab9bb",
   "metadata": {},
   "source": [
    "#### creating series"
   ]
  },
  {
   "cell_type": "code",
   "execution_count": 2,
   "id": "d990bc45-c263-4988-a915-c8683db92443",
   "metadata": {},
   "outputs": [
    {
     "name": "stdout",
     "output_type": "stream",
     "text": [
      "0    11\n",
      "1     0\n",
      "2     2\n",
      "3     3\n",
      "4    34\n",
      "5    22\n",
      "6     0\n",
      "7    34\n",
      "Name: sales, dtype: int64\n"
     ]
    }
   ],
   "source": [
    "sales=[11,0,2,3,34,22,0,34]\n",
    "sales_prices=pd.Series(sales,name='sales')\n",
    "print(sales_prices)"
   ]
  },
  {
   "cell_type": "code",
   "execution_count": 5,
   "id": "ad04ac93-f7d2-455c-83ba-7c1fbd1187d5",
   "metadata": {},
   "outputs": [
    {
     "data": {
      "text/plain": [
       "array([11,  0,  2,  3, 34, 22,  0, 34], dtype=int64)"
      ]
     },
     "execution_count": 5,
     "metadata": {},
     "output_type": "execute_result"
    }
   ],
   "source": [
    "sales_prices.values"
   ]
  },
  {
   "cell_type": "code",
   "execution_count": null,
   "id": "71e845ba-4cfb-449e-861c-b3a55fbe0eb1",
   "metadata": {},
   "outputs": [],
   "source": [
    "sales_prices.index"
   ]
  },
  {
   "cell_type": "code",
   "execution_count": 9,
   "id": "821f8e62-22ad-4f80-9a3d-1e6005e08c1e",
   "metadata": {},
   "outputs": [
    {
     "data": {
      "text/plain": [
       "'sales'"
      ]
     },
     "execution_count": 9,
     "metadata": {},
     "output_type": "execute_result"
    }
   ],
   "source": [
    "sales_prices.name"
   ]
  },
  {
   "cell_type": "code",
   "execution_count": 11,
   "id": "5830519b-9616-485c-87df-baf906a127b6",
   "metadata": {},
   "outputs": [
    {
     "data": {
      "text/plain": [
       "dtype('int64')"
      ]
     },
     "execution_count": 11,
     "metadata": {},
     "output_type": "execute_result"
    }
   ],
   "source": [
    "sales_prices.dtype"
   ]
  },
  {
   "cell_type": "code",
   "execution_count": 12,
   "id": "8e6a25d8-22cc-48b4-b53e-68beb2b23b51",
   "metadata": {},
   "outputs": [
    {
     "data": {
      "text/plain": [
       "0"
      ]
     },
     "execution_count": 12,
     "metadata": {},
     "output_type": "execute_result"
    }
   ],
   "source": [
    "sales_prices.min()"
   ]
  },
  {
   "cell_type": "code",
   "execution_count": 14,
   "id": "327f2d3f-dd63-489c-a215-5332f02647da",
   "metadata": {},
   "outputs": [
    {
     "data": {
      "text/plain": [
       "34"
      ]
     },
     "execution_count": 14,
     "metadata": {},
     "output_type": "execute_result"
    }
   ],
   "source": [
    "sales_prices.max()"
   ]
  },
  {
   "cell_type": "code",
   "execution_count": 15,
   "id": "6cf23c32-a8a1-4e4f-bd84-d25544594e03",
   "metadata": {},
   "outputs": [
    {
     "data": {
      "text/plain": [
       "13.25"
      ]
     },
     "execution_count": 15,
     "metadata": {},
     "output_type": "execute_result"
    }
   ],
   "source": [
    "sales_prices.mean()"
   ]
  },
  {
   "cell_type": "markdown",
   "id": "887b3d05-f027-4d7e-92fc-ee0bb163794d",
   "metadata": {},
   "source": [
    "### astype() - convert the data type in pandas series (if compatable)"
   ]
  },
  {
   "cell_type": "code",
   "execution_count": 16,
   "id": "0db95093-cb92-4daa-a28d-7986a05bfd34",
   "metadata": {},
   "outputs": [
    {
     "data": {
      "text/plain": [
       "0    11.0\n",
       "1     0.0\n",
       "2     2.0\n",
       "3     3.0\n",
       "4    34.0\n",
       "5    22.0\n",
       "6     0.0\n",
       "7    34.0\n",
       "Name: sales, dtype: float64"
      ]
     },
     "execution_count": 16,
     "metadata": {},
     "output_type": "execute_result"
    }
   ],
   "source": [
    "sales_prices.astype(\"float\")"
   ]
  },
  {
   "cell_type": "code",
   "execution_count": 17,
   "id": "af204b1a-2228-4ac3-99bb-609c3a4959af",
   "metadata": {},
   "outputs": [
    {
     "data": {
      "text/plain": [
       "0     True\n",
       "1    False\n",
       "2     True\n",
       "3     True\n",
       "4     True\n",
       "5     True\n",
       "6    False\n",
       "7     True\n",
       "Name: sales, dtype: bool"
      ]
     },
     "execution_count": 17,
     "metadata": {},
     "output_type": "execute_result"
    }
   ],
   "source": [
    "sales_prices.astype(\"bool\")"
   ]
  },
  {
   "cell_type": "code",
   "execution_count": null,
   "id": "dcd22693-5030-493a-9cd7-f17c9a777029",
   "metadata": {},
   "outputs": [],
   "source": []
  }
 ],
 "metadata": {
  "kernelspec": {
   "display_name": "Python (pandas_old)",
   "language": "python",
   "name": "pandas_old"
  },
  "language_info": {
   "codemirror_mode": {
    "name": "ipython",
    "version": 3
   },
   "file_extension": ".py",
   "mimetype": "text/x-python",
   "name": "python",
   "nbconvert_exporter": "python",
   "pygments_lexer": "ipython3",
   "version": "3.10.18"
  }
 },
 "nbformat": 4,
 "nbformat_minor": 5
}
