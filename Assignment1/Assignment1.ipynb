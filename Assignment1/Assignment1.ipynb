{
 "cells": [
  {
   "cell_type": "markdown",
   "id": "74b5ff4d-f6a3-4234-a24b-1c8da1575636",
   "metadata": {},
   "source": [
    "# 1st Assignment"
   ]
  },
  {
   "cell_type": "markdown",
   "id": "16f2741e-9529-4f8f-b89b-b8639e3d15f2",
   "metadata": {},
   "source": [
    "### importing libraries"
   ]
  },
  {
   "cell_type": "code",
   "execution_count": 1,
   "id": "eeccc0a1-b5f3-4551-aa52-f6594cdf43f5",
   "metadata": {},
   "outputs": [],
   "source": [
    "import numpy as np"
   ]
  },
  {
   "cell_type": "code",
   "execution_count": 2,
   "id": "67d891b6-428d-4844-b511-fd7cb9113d75",
   "metadata": {
    "scrolled": true
   },
   "outputs": [
    {
     "name": "stdout",
     "output_type": "stream",
     "text": [
      "[ 10  20  30  40  50  60  70  80  90 100]\n"
     ]
    }
   ],
   "source": [
    "my_list=np.array([x*10 for x in range (1,11)])\n",
    "print(my_list)\n"
   ]
  },
  {
   "cell_type": "code",
   "execution_count": 3,
   "id": "0590386e-30be-4620-b559-01a6660f7ac3",
   "metadata": {},
   "outputs": [
    {
     "name": "stdout",
     "output_type": "stream",
     "text": [
      "1\n",
      "(10,)\n",
      "10\n",
      "int64\n"
     ]
    }
   ],
   "source": [
    "print(my_list.ndim)\n",
    "print(my_list.shape)\n",
    "print(my_list.size)\n",
    "print(my_list.dtype)"
   ]
  },
  {
   "cell_type": "code",
   "execution_count": null,
   "id": "d60a8ab0-9dac-4b8e-91e0-c5d830800ee6",
   "metadata": {},
   "outputs": [],
   "source": []
  }
 ],
 "metadata": {
  "kernelspec": {
   "display_name": "base",
   "language": "python",
   "name": "python3"
  },
  "language_info": {
   "codemirror_mode": {
    "name": "ipython",
    "version": 3
   },
   "file_extension": ".py",
   "mimetype": "text/x-python",
   "name": "python",
   "nbconvert_exporter": "python",
   "pygments_lexer": "ipython3",
   "version": "3.13.5"
  }
 },
 "nbformat": 4,
 "nbformat_minor": 5
}
