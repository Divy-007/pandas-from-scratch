{
 "cells": [
  {
   "cell_type": "markdown",
   "id": "f6f77173-265e-46fe-884d-6557c67356f3",
   "metadata": {},
   "source": [
    "# idexing in pandas\n"
   ]
  },
  {
   "cell_type": "code",
   "execution_count": 2,
   "id": "c0d090ef-6ebb-4ff7-a825-a2854fe64eaf",
   "metadata": {},
   "outputs": [],
   "source": [
    "import numpy as np \n",
    "import pandas as pd\n"
   ]
  },
  {
   "cell_type": "code",
   "execution_count": 7,
   "id": "2563d439-7dab-4296-a14a-3b95a71f36dd",
   "metadata": {},
   "outputs": [
    {
     "data": {
      "text/plain": [
       "banana          10\n",
       "mango           22\n",
       "peach           31\n",
       "dragon_fruit    56\n",
       "grapes          78\n",
       "Name: price, dtype: int64"
      ]
     },
     "execution_count": 7,
     "metadata": {},
     "output_type": "execute_result"
    }
   ],
   "source": [
    "arr1=[10,22,31,56,78]\n",
    "fruits=[\"banana\", \"mango\", \"peach\", \"dragon_fruit\",\"grapes\"]\n",
    "arr_series=pd.Series(arr1,index=fruits,name='price')\n",
    "arr_series"
   ]
  },
  {
   "cell_type": "code",
   "execution_count": 9,
   "id": "bb1f2541-9199-437a-abde-16e8c5c06986",
   "metadata": {},
   "outputs": [
    {
     "data": {
      "text/plain": [
       "mango    22\n",
       "peach    31\n",
       "Name: price, dtype: int64"
      ]
     },
     "execution_count": 9,
     "metadata": {},
     "output_type": "execute_result"
    }
   ],
   "source": [
    "#slicing\n",
    "arr_series[\"mango\":\"peach\"]#the stop is inclusive"
   ]
  },
  {
   "cell_type": "code",
   "execution_count": null,
   "id": "c62b5f62-6192-4bde-b4c2-a2576bb9364e",
   "metadata": {},
   "outputs": [],
   "source": []
  }
 ],
 "metadata": {
  "kernelspec": {
   "display_name": "Python (pandas_old)",
   "language": "python",
   "name": "pandas_old"
  },
  "language_info": {
   "codemirror_mode": {
    "name": "ipython",
    "version": 3
   },
   "file_extension": ".py",
   "mimetype": "text/x-python",
   "name": "python",
   "nbconvert_exporter": "python",
   "pygments_lexer": "ipython3",
   "version": "3.10.18"
  }
 },
 "nbformat": 4,
 "nbformat_minor": 5
}
