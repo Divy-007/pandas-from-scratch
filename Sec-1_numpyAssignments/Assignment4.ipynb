{
 "cells": [
  {
   "cell_type": "markdown",
   "id": "920398da-7275-4d6f-9cf4-61a359f66835",
   "metadata": {},
   "source": [
    "# Assignment 4: Arithmetic Operations"
   ]
  },
  {
   "cell_type": "markdown",
   "id": "c0f487db-16fd-48b9-ac81-6d079eba64dd",
   "metadata": {},
   "source": [
    "The creativity of our marketing team knows no bounds!\n",
    "\n",
    "They've asked us to come up with a simple algorithm to provide a random discount to our list of prices below. \n",
    "\n",
    "Before we do that, \n",
    "\n",
    "* Add a 5 dollar shipping fee to each price. Call this array `total`.\n",
    "\n",
    "Once we have that, we want to use the random_array created in assignment 2 and apply them to the 6 prices.\n",
    "\n",
    "* Grab the first 6 numbers from `random_array`, reshape it to one dimension. Call this `discount_pct`.\n",
    "* Subtract `discount_pct` FROM 1, store this in `pct_owed`.\n",
    "* Multiply `pct_owed` by `total` to get the final amount owed."
   ]
  },
  {
   "cell_type": "code",
   "execution_count": 13,
   "id": "6df8887e-ad23-4de7-b477-5898791fd3be",
   "metadata": {},
   "outputs": [],
   "source": [
    "import numpy as np\n",
    "from numpy import random as rng"
   ]
  },
  {
   "cell_type": "code",
   "execution_count": 14,
   "id": "3844baa4-f3af-4c1a-a5d9-5fa2fcd2bb31",
   "metadata": {},
   "outputs": [
    {
     "data": {
      "text/plain": [
       "array([ 10.99,  11.99,  27.49, 104.99,   9.99,  54.99])"
      ]
     },
     "execution_count": 14,
     "metadata": {},
     "output_type": "execute_result"
    }
   ],
   "source": [
    "prices = np.array([5.99, 6.99, 22.49, 99.99, 4.99, 49.99])\n",
    "total=prices+5\n",
    "total"
   ]
  },
  {
   "cell_type": "code",
   "execution_count": 27,
   "id": "39e3a9be-ff37-49b7-8e48-1470914cef60",
   "metadata": {},
   "outputs": [
    {
     "data": {
      "text/plain": [
       "array([0.89257707, 0.6901224 , 0.14097194, 0.86004665, 0.29712962,\n",
       "       0.35520585, 0.53514735, 0.91583101, 0.31149625])"
      ]
     },
     "execution_count": 27,
     "metadata": {},
     "output_type": "execute_result"
    }
   ],
   "source": [
    "random_array=rng.random(9)\n",
    "random_array"
   ]
  },
  {
   "cell_type": "code",
   "execution_count": 28,
   "id": "79bb61ae-d20c-4867-acde-1a12c6208817",
   "metadata": {},
   "outputs": [
    {
     "data": {
      "text/plain": [
       "array([ -1.18,  -3.72, -23.61, -14.69,  -7.02, -35.46])"
      ]
     },
     "execution_count": 28,
     "metadata": {},
     "output_type": "execute_result"
    }
   ],
   "source": [
    "discount_pct=random_array[:6].reshape(6)\n",
    "pct_owed=discount_pct-1\n",
    "final_owed=pct_owed*total\n"
   ]
  },
  {
   "cell_type": "code",
   "execution_count": 31,
   "id": "8a0d80d1-a02b-4b37-8143-047b9c4b06ba",
   "metadata": {},
   "outputs": [
    {
     "name": "stdout",
     "output_type": "stream",
     "text": [
      "[0.89257707 0.6901224  0.14097194 0.86004665 0.29712962 0.35520585]\n",
      "[-0.10742293 -0.3098776  -0.85902806 -0.13995335 -0.70287038 -0.64479415]\n",
      "[ -1.18  -3.72 -23.61 -14.69  -7.02 -35.46]\n"
     ]
    }
   ],
   "source": [
    "print(discount_pct)\n",
    "print(pct_owed)\n",
    "print(final_owed.round(2))"
   ]
  },
  {
   "cell_type": "code",
   "execution_count": null,
   "id": "e8d80cf8-ef65-4536-ad94-2f1d98f39cf0",
   "metadata": {},
   "outputs": [],
   "source": []
  }
 ],
 "metadata": {
  "kernelspec": {
   "display_name": "Python 3 (ipykernel)",
   "language": "python",
   "name": "python3"
  },
  "language_info": {
   "codemirror_mode": {
    "name": "ipython",
    "version": 3
   },
   "file_extension": ".py",
   "mimetype": "text/x-python",
   "name": "python",
   "nbconvert_exporter": "python",
   "pygments_lexer": "ipython3",
   "version": "3.13.5"
  }
 },
 "nbformat": 4,
 "nbformat_minor": 5
}
