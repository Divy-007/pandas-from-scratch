{
 "cells": [
  {
   "cell_type": "markdown",
   "id": "682c2d2b-5869-4bf3-ab4c-772cc50b3aec",
   "metadata": {},
   "source": [
    "# Assignment 5: Filtering Arrays\n",
    "\n",
    "Filter the product array to only include those with prices greater than 25.\n",
    "\n",
    "Modify your logic to include cola, despite it not having a price greater than 25. \n",
    "Store the elements returned in an array called `fancy_feast_special`.\n",
    "\n",
    "Next, create a shipping cost array where the cost is 0 if price is greater than 20, and 5 if not. "
   ]
  },
  {
   "cell_type": "code",
   "execution_count": 1,
   "id": "60f0d388-38f2-4c54-936c-865704a7e4f9",
   "metadata": {},
   "outputs": [],
   "source": [
    "import numpy as np"
   ]
  },
  {
   "cell_type": "code",
   "execution_count": 11,
   "id": "fc119603-16af-4027-b712-1e573dc13c04",
   "metadata": {},
   "outputs": [
    {
     "data": {
      "text/plain": [
       "array([ 5.99,  6.99, 22.49, 99.99,  4.99, 49.99])"
      ]
     },
     "execution_count": 11,
     "metadata": {},
     "output_type": "execute_result"
    }
   ],
   "source": [
    "prices = np.array([5.99, 6.99, 22.49, 99.99, 4.99, 49.99])\n",
    "prices\n"
   ]
  },
  {
   "cell_type": "code",
   "execution_count": 12,
   "id": "f7741339-d4ff-4b71-ad5a-cc3484bcfbb0",
   "metadata": {},
   "outputs": [
    {
     "data": {
      "text/plain": [
       "array(['salad', 'bread', 'mustard', 'rare tomato', 'cola',\n",
       "       'gourmet ice cream'], dtype='<U17')"
      ]
     },
     "execution_count": 12,
     "metadata": {},
     "output_type": "execute_result"
    }
   ],
   "source": [
    "products = np.array(\n",
    "    [\"salad\", \"bread\", \"mustard\", \"rare tomato\", \"cola\", \"gourmet ice cream\"]\n",
    ")\n",
    "products"
   ]
  },
  {
   "cell_type": "code",
   "execution_count": 22,
   "id": "b394c9aa-65af-4bf3-9d47-4b7d28d056a4",
   "metadata": {},
   "outputs": [
    {
     "data": {
      "text/plain": [
       "array(['rare tomato', 'gourmet ice cream'], dtype='<U17')"
      ]
     },
     "execution_count": 22,
     "metadata": {},
     "output_type": "execute_result"
    }
   ],
   "source": [
    " products[prices > 25]"
   ]
  },
  {
   "cell_type": "code",
   "execution_count": 35,
   "id": "6854248d-0bb6-4acc-b719-db0125e72d50",
   "metadata": {},
   "outputs": [
    {
     "data": {
      "text/plain": [
       "array(['rare tomato', 'cola', 'gourmet ice cream'], dtype='<U17')"
      ]
     },
     "execution_count": 35,
     "metadata": {},
     "output_type": "execute_result"
    }
   ],
   "source": [
    "mask=(prices>25) | (products==\"cola\")\n",
    "fancy_feast_special=products[mask]\n",
    "fancy_feast_special\n",
    "\n"
   ]
  },
  {
   "cell_type": "code",
   "execution_count": 36,
   "id": "6217c0ff-d47b-437e-a70b-dd53ae77f50d",
   "metadata": {},
   "outputs": [
    {
     "data": {
      "text/plain": [
       "array(['cost is 5', 'cost is 5', 'cost is 0', 'cost is 0', 'cost is 5',\n",
       "       'cost is 0'], dtype='<U9')"
      ]
     },
     "execution_count": 36,
     "metadata": {},
     "output_type": "execute_result"
    }
   ],
   "source": [
    "shipping_cost=np.where(prices>20,\"cost is 0\",\"cost is 5\")\n",
    "shipping_cost"
   ]
  },
  {
   "cell_type": "code",
   "execution_count": null,
   "id": "e5d8e32c-c45c-4323-a772-8ff654ca1324",
   "metadata": {},
   "outputs": [],
   "source": []
  }
 ],
 "metadata": {
  "kernelspec": {
   "display_name": "Python 3 (ipykernel)",
   "language": "python",
   "name": "python3"
  },
  "language_info": {
   "codemirror_mode": {
    "name": "ipython",
    "version": 3
   },
   "file_extension": ".py",
   "mimetype": "text/x-python",
   "name": "python",
   "nbconvert_exporter": "python",
   "pygments_lexer": "ipython3",
   "version": "3.13.5"
  }
 },
 "nbformat": 4,
 "nbformat_minor": 5
}
