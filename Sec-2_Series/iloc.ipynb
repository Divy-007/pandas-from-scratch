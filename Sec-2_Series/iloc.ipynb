{
 "cells": [
  {
   "cell_type": "markdown",
   "id": "0df96689-d022-4c01-b1ad-c63c08a50034",
   "metadata": {},
   "source": [
    "# iloc[] method \n"
   ]
  },
  {
   "cell_type": "code",
   "execution_count": 1,
   "id": "79acbb3d-5d0b-433a-8cc9-355291fb1d47",
   "metadata": {},
   "outputs": [],
   "source": [
    "import numpy as np\n",
    "import pandas as pd\n"
   ]
  },
  {
   "cell_type": "code",
   "execution_count": 3,
   "id": "b408bbe9-a2c6-489b-b994-114668f25795",
   "metadata": {},
   "outputs": [
    {
     "data": {
      "text/plain": [
       "car            23\n",
       "bike           23\n",
       "bus            12\n",
       "van            34\n",
       "space_craft    99\n",
       "Name: price, dtype: int64"
      ]
     },
     "execution_count": 3,
     "metadata": {},
     "output_type": "execute_result"
    }
   ],
   "source": [
    "series=pd.Series([23,23,12,34,99], index=[\"car\" , \"bike\", \"bus\",\"van\", \"space_craft\"],name =\"price\")\n",
    "series"
   ]
  },
  {
   "cell_type": "code",
   "execution_count": 7,
   "id": "79d45c81-cc7f-4d28-9cda-ab4566ae4269",
   "metadata": {},
   "outputs": [
    {
     "data": {
      "text/plain": [
       "van            34\n",
       "space_craft    99\n",
       "Name: price, dtype: int64"
      ]
     },
     "execution_count": 7,
     "metadata": {},
     "output_type": "execute_result"
    }
   ],
   "source": [
    "series.iloc[3:]"
   ]
  },
  {
   "cell_type": "code",
   "execution_count": 13,
   "id": "40fcfe57-cad9-4950-96ac-bf4744386137",
   "metadata": {},
   "outputs": [
    {
     "data": {
      "text/plain": [
       "bike    23\n",
       "bus     12\n",
       "Name: price, dtype: int64"
      ]
     },
     "execution_count": 13,
     "metadata": {},
     "output_type": "execute_result"
    }
   ],
   "source": [
    "series.iloc[1:3]"
   ]
  },
  {
   "cell_type": "code",
   "execution_count": null,
   "id": "37637f31-9d28-4ef3-b71c-c057978c80a8",
   "metadata": {},
   "outputs": [],
   "source": []
  }
 ],
 "metadata": {
  "kernelspec": {
   "display_name": "Python (pandas_old)",
   "language": "python",
   "name": "pandas_old"
  },
  "language_info": {
   "codemirror_mode": {
    "name": "ipython",
    "version": 3
   },
   "file_extension": ".py",
   "mimetype": "text/x-python",
   "name": "python",
   "nbconvert_exporter": "python",
   "pygments_lexer": "ipython3",
   "version": "3.10.18"
  }
 },
 "nbformat": 4,
 "nbformat_minor": 5
}
